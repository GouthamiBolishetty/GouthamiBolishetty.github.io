{
  "nbformat": 4,
  "nbformat_minor": 0,
  "metadata": {
    "colab": {
      "name": "Internship project",
      "private_outputs": true,
      "provenance": [],
      "authorship_tag": "ABX9TyPb5e7H6qPOlfuSR/KDR/cN",
      "include_colab_link": true
    },
    "kernelspec": {
      "name": "python3",
      "display_name": "Python 3"
    },
    "language_info": {
      "name": "python"
    }
  },
  "cells": [
    {
      "cell_type": "markdown",
      "metadata": {
        "id": "view-in-github",
        "colab_type": "text"
      },
      "source": [
        "<a href=\"https://colab.research.google.com/github/GouthamiBolishetty/GouthamiBolishetty.github.io/blob/main/Internship_project.ipynb\" target=\"_parent\"><img src=\"https://colab.research.google.com/assets/colab-badge.svg\" alt=\"Open In Colab\"/></a>"
      ]
    },
    {
      "cell_type": "markdown",
      "metadata": {
        "id": "p5jM_64JBepH"
      },
      "source": [
        "\n",
        "**GOLD PRICE PREDICTION**\n",
        "\n",
        "\n",
        "\n",
        "\n",
        "\n",
        "\n"
      ]
    },
    {
      "cell_type": "code",
      "metadata": {
        "id": "PbFwl_8kfK7z"
      },
      "source": [
        "pip install yfinance"
      ],
      "execution_count": null,
      "outputs": []
    },
    {
      "cell_type": "code",
      "metadata": {
        "id": "I_NisGPKBwFk"
      },
      "source": [
        "from sklearn.linear_model import LinearRegression"
      ],
      "execution_count": null,
      "outputs": []
    },
    {
      "cell_type": "markdown",
      "metadata": {
        "id": "qe9LlivlCxbG"
      },
      "source": [
        "## pandas and numpy are used for data manipulation "
      ]
    },
    {
      "cell_type": "code",
      "metadata": {
        "id": "CVjdKkILCSIG"
      },
      "source": [
        "import pandas as pd \n",
        "import numpy as np"
      ],
      "execution_count": null,
      "outputs": []
    },
    {
      "cell_type": "markdown",
      "metadata": {
        "id": "RSbRVY3XDPsZ"
      },
      "source": [
        "## matplotlib and seaborn are used for plotting graphs "
      ]
    },
    {
      "cell_type": "code",
      "metadata": {
        "id": "qg8oQ9VrDDqO"
      },
      "source": [
        "import matplotlib.pyplot as plt \n",
        "import seaborn "
      ],
      "execution_count": null,
      "outputs": []
    },
    {
      "cell_type": "code",
      "metadata": {
        "id": "7N-I7Jo7DDcx"
      },
      "source": [
        "# fix_yahoo_finance is used to fetch data \n",
        "import yfinance as yf"
      ],
      "execution_count": null,
      "outputs": []
    },
    {
      "cell_type": "code",
      "metadata": {
        "id": "Fvep7op1fD-m"
      },
      "source": [
        ""
      ],
      "execution_count": null,
      "outputs": []
    },
    {
      "cell_type": "code",
      "metadata": {
        "id": "Js6DzpWSDDL6"
      },
      "source": [
        "# Read data \n",
        "Df = yf.download('GLD','2008-01-01','2021-7-12',auto_adjust=True)\n"
      ],
      "execution_count": null,
      "outputs": []
    },
    {
      "cell_type": "code",
      "metadata": {
        "id": "OHd9hYY_DC83"
      },
      "source": [
        "# Only keep close columns \n",
        "Df=Df[['Close']] \n"
      ],
      "execution_count": null,
      "outputs": []
    },
    {
      "cell_type": "code",
      "metadata": {
        "id": "72Bl587mDCqG"
      },
      "source": [
        "# Drop rows with missing values \n",
        "Df= Df.dropna() \n"
      ],
      "execution_count": null,
      "outputs": []
    },
    {
      "cell_type": "code",
      "metadata": {
        "id": "VIYj5-IYD5Ox"
      },
      "source": [
        "# Plot the closing price of GLD \n",
        "Df.Close.plot(figsize=(10,5)) \n",
        "plt.ylabel(\"Gold ETF Prices\")\n",
        "plt.show()"
      ],
      "execution_count": null,
      "outputs": []
    },
    {
      "cell_type": "code",
      "metadata": {
        "id": "OAylm3TVD55d"
      },
      "source": [
        "Df['S_3'] = Df['Close'].shift(1).rolling(window=3).mean() \n",
        "Df['S_9']= Df['Close'].shift(1).rolling(window=9).mean() \n",
        "Df= Df.dropna() \n",
        "X = Df[['S_3','S_9']] \n",
        "X.head()"
      ],
      "execution_count": null,
      "outputs": []
    },
    {
      "cell_type": "code",
      "metadata": {
        "id": "uiq6kCkYD6Pd"
      },
      "source": [
        "Y = Df['Close']\n",
        "Y.head()"
      ],
      "execution_count": null,
      "outputs": []
    },
    {
      "cell_type": "code",
      "metadata": {
        "id": "edEQZ7r7D6sv"
      },
      "source": [
        "t=.8\n",
        "t=int(t*len(Df))\n",
        "#Train dataset\n",
        "X_train = X[:t]\n",
        "Y_train = Y[:t]"
      ],
      "execution_count": null,
      "outputs": []
    },
    {
      "cell_type": "code",
      "metadata": {
        "id": "xJZ0fuU8iWon"
      },
      "source": [
        "#Test dataset\n",
        "X_test = X[t:]\n",
        "Y_test = Y[t:]"
      ],
      "execution_count": null,
      "outputs": []
    },
    {
      "cell_type": "code",
      "metadata": {
        "id": "sIam0ymbiq9-"
      },
      "source": [
        "#Y = m1 * X1 + m2 * x2 + c\n",
        "#Gold_ETF_price = m1 * 3 days moving average + m2 * 15 days moving average + c"
      ],
      "execution_count": null,
      "outputs": []
    },
    {
      "cell_type": "code",
      "metadata": {
        "id": "qGRumN6okX_m"
      },
      "source": [
        "linear = LinearRegression(). fit(X_train,Y_train)\n",
        "print(\"Gold ETF Price =\", round(linear.coef_[0],2),\"* 3 Days Moving Average\", round(linear.coef_[1],2),\"* 9 Days Moving Average +\", round(linear.intercept_,2))"
      ],
      "execution_count": null,
      "outputs": []
    },
    {
      "cell_type": "code",
      "metadata": {
        "id": "ju0U6Ll4nBqL"
      },
      "source": [
        "predicted_price = linear.predict(X_test)\n",
        "predicted_price = pd.DataFrame(predicted_price,index=Y_test.index,columns = ['price'])\n",
        "predicted_price.plot(figsize=(10,5))\n",
        "Y_test.plot()\n",
        "plt.legend(['predicted_price','actual_price'])\n",
        "plt.ylabel(\"Gold ETF price\")\n",
        "plt.show()"
      ],
      "execution_count": null,
      "outputs": []
    },
    {
      "cell_type": "code",
      "metadata": {
        "id": "qOETpxdbopKr"
      },
      "source": [
        "r2_score = linear.score(X[t:],Y[t:])*100\n",
        "float(\"{0:2f}\".format(r2_score))"
      ],
      "execution_count": null,
      "outputs": []
    }
  ]
}